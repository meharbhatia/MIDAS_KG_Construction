{
 "cells": [
  {
   "cell_type": "code",
   "execution_count": 13,
   "metadata": {},
   "outputs": [
    {
     "data": {
      "text/plain": [
       "'2.1.3'"
      ]
     },
     "execution_count": 13,
     "metadata": {},
     "output_type": "execute_result"
    }
   ],
   "source": [
    "import spacy\n",
    "nlp = spacy.load('en')\n",
    "spacy.__version__\n"
   ]
  },
  {
   "cell_type": "code",
   "execution_count": 14,
   "metadata": {},
   "outputs": [],
   "source": [
    "import neuralcoref\n",
    "# coref = neuralcoref.NeuralCoref(nlp.vocab)"
   ]
  },
  {
   "cell_type": "code",
   "execution_count": 15,
   "metadata": {},
   "outputs": [
    {
     "data": {
      "text/plain": [
       "<spacy.lang.en.English at 0x7f7be6cfd7f0>"
      ]
     },
     "execution_count": 15,
     "metadata": {},
     "output_type": "execute_result"
    }
   ],
   "source": [
    "# nlp.add_pipe(coref, name='neuralcoref')\n",
    "\n",
    "neuralcoref.add_to_pipe(nlp, greedyness=0.55) #0.55 is best value I've seen\n",
    "\n",
    "# nlp.remove_pipe(\"neuralcoref\")  # This remove the current neuralcoref instance from SpaCy pipe\n",
    "# coref = neuralcoref.NeuralCoref(nlp.vocab, greedyness=0.75)\n",
    "# nlp.add_pipe(coref, name='neuralcoref')"
   ]
  },
  {
   "cell_type": "code",
   "execution_count": 16,
   "metadata": {},
   "outputs": [],
   "source": [
    "import pandas as pd\n",
    "# df = pd.read_csv(r'C:\\Users\\mehar\\Desktop\\MIDAS\\Internship\\data\\icdm_contest_data.csv')\n",
    "df = pd.read_csv('CLEANED_icdm_contest_data.csv', usecols = ['index', 'content', 'industry'])"
   ]
  },
  {
   "cell_type": "code",
   "execution_count": 17,
   "metadata": {},
   "outputs": [
    {
     "data": {
      "text/html": [
       "<div>\n",
       "<style scoped>\n",
       "    .dataframe tbody tr th:only-of-type {\n",
       "        vertical-align: middle;\n",
       "    }\n",
       "\n",
       "    .dataframe tbody tr th {\n",
       "        vertical-align: top;\n",
       "    }\n",
       "\n",
       "    .dataframe thead th {\n",
       "        text-align: right;\n",
       "    }\n",
       "</style>\n",
       "<table border=\"1\" class=\"dataframe\">\n",
       "  <thead>\n",
       "    <tr style=\"text-align: right;\">\n",
       "      <th></th>\n",
       "      <th>index</th>\n",
       "      <th>content</th>\n",
       "      <th>industry</th>\n",
       "    </tr>\n",
       "  </thead>\n",
       "  <tbody>\n",
       "    <tr>\n",
       "      <th>0</th>\n",
       "      <td>0</td>\n",
       "      <td>Norway has a lot of electric cars, so many tha...</td>\n",
       "      <td>automotiveEngineering</td>\n",
       "    </tr>\n",
       "    <tr>\n",
       "      <th>1</th>\n",
       "      <td>1</td>\n",
       "      <td>Ford says shifter cables can snap off and rend...</td>\n",
       "      <td>automotiveEngineering</td>\n",
       "    </tr>\n",
       "    <tr>\n",
       "      <th>2</th>\n",
       "      <td>2</td>\n",
       "      <td>Enlarge ImageThe C-Class is still mighty good,...</td>\n",
       "      <td>automotiveEngineering</td>\n",
       "    </tr>\n",
       "    <tr>\n",
       "      <th>3</th>\n",
       "      <td>3</td>\n",
       "      <td>The 2019 Cadillac CTS-VCNBC | Mack HoganCadill...</td>\n",
       "      <td>automotiveEngineering</td>\n",
       "    </tr>\n",
       "    <tr>\n",
       "      <th>4</th>\n",
       "      <td>4</td>\n",
       "      <td>featuring 30-inch wheels, a dettatched cabin, ...</td>\n",
       "      <td>automotiveEngineering</td>\n",
       "    </tr>\n",
       "  </tbody>\n",
       "</table>\n",
       "</div>"
      ],
      "text/plain": [
       "   index                                            content  \\\n",
       "0      0  Norway has a lot of electric cars, so many tha...   \n",
       "1      1  Ford says shifter cables can snap off and rend...   \n",
       "2      2  Enlarge ImageThe C-Class is still mighty good,...   \n",
       "3      3  The 2019 Cadillac CTS-VCNBC | Mack HoganCadill...   \n",
       "4      4  featuring 30-inch wheels, a dettatched cabin, ...   \n",
       "\n",
       "                industry  \n",
       "0  automotiveEngineering  \n",
       "1  automotiveEngineering  \n",
       "2  automotiveEngineering  \n",
       "3  automotiveEngineering  \n",
       "4  automotiveEngineering  "
      ]
     },
     "execution_count": 17,
     "metadata": {},
     "output_type": "execute_result"
    }
   ],
   "source": [
    "df.head()"
   ]
  },
  {
   "cell_type": "code",
   "execution_count": 18,
   "metadata": {},
   "outputs": [
    {
     "data": {
      "text/html": [
       "<div>\n",
       "<style scoped>\n",
       "    .dataframe tbody tr th:only-of-type {\n",
       "        vertical-align: middle;\n",
       "    }\n",
       "\n",
       "    .dataframe tbody tr th {\n",
       "        vertical-align: top;\n",
       "    }\n",
       "\n",
       "    .dataframe thead th {\n",
       "        text-align: right;\n",
       "    }\n",
       "</style>\n",
       "<table border=\"1\" class=\"dataframe\">\n",
       "  <thead>\n",
       "    <tr style=\"text-align: right;\">\n",
       "      <th></th>\n",
       "      <th>index</th>\n",
       "      <th>content</th>\n",
       "      <th>industry</th>\n",
       "    </tr>\n",
       "  </thead>\n",
       "  <tbody>\n",
       "    <tr>\n",
       "      <th>0</th>\n",
       "      <td>0</td>\n",
       "      <td>Norway has a lot of electric cars, so many tha...</td>\n",
       "      <td>automotiveEngineering</td>\n",
       "    </tr>\n",
       "    <tr>\n",
       "      <th>1</th>\n",
       "      <td>1</td>\n",
       "      <td>Ford says shifter cables can snap off and rend...</td>\n",
       "      <td>automotiveEngineering</td>\n",
       "    </tr>\n",
       "    <tr>\n",
       "      <th>2</th>\n",
       "      <td>2</td>\n",
       "      <td>Enlarge ImageThe C-Class is still mighty good,...</td>\n",
       "      <td>automotiveEngineering</td>\n",
       "    </tr>\n",
       "    <tr>\n",
       "      <th>3</th>\n",
       "      <td>3</td>\n",
       "      <td>The 2019 Cadillac CTS-VCNBC | Mack HoganCadill...</td>\n",
       "      <td>automotiveEngineering</td>\n",
       "    </tr>\n",
       "    <tr>\n",
       "      <th>4</th>\n",
       "      <td>4</td>\n",
       "      <td>featuring 30-inch wheels, a dettatched cabin, ...</td>\n",
       "      <td>automotiveEngineering</td>\n",
       "    </tr>\n",
       "  </tbody>\n",
       "</table>\n",
       "</div>"
      ],
      "text/plain": [
       "   index                                            content  \\\n",
       "0      0  Norway has a lot of electric cars, so many tha...   \n",
       "1      1  Ford says shifter cables can snap off and rend...   \n",
       "2      2  Enlarge ImageThe C-Class is still mighty good,...   \n",
       "3      3  The 2019 Cadillac CTS-VCNBC | Mack HoganCadill...   \n",
       "4      4  featuring 30-inch wheels, a dettatched cabin, ...   \n",
       "\n",
       "                industry  \n",
       "0  automotiveEngineering  \n",
       "1  automotiveEngineering  \n",
       "2  automotiveEngineering  \n",
       "3  automotiveEngineering  \n",
       "4  automotiveEngineering  "
      ]
     },
     "execution_count": 18,
     "metadata": {},
     "output_type": "execute_result"
    }
   ],
   "source": [
    "df_domain_1 = df.loc[(df.industry == 'automotiveEngineering')]\n",
    "df_domain_1.head()"
   ]
  },
  {
   "cell_type": "code",
   "execution_count": 19,
   "metadata": {},
   "outputs": [],
   "source": [
    "import nltk\n",
    "from nltk import tokenize"
   ]
  },
  {
   "cell_type": "code",
   "execution_count": 20,
   "metadata": {},
   "outputs": [],
   "source": [
    "# final_list  = []\n",
    "# l = len(df)\n",
    "# for i in range(l):\n",
    "#     sent = df['content'].iloc[i]\n",
    "#     final_list.append(tokenize.sent_tokenize(sent))"
   ]
  },
  {
   "cell_type": "code",
   "execution_count": 21,
   "metadata": {},
   "outputs": [
    {
     "data": {
      "text/html": [
       "<div>\n",
       "<style scoped>\n",
       "    .dataframe tbody tr th:only-of-type {\n",
       "        vertical-align: middle;\n",
       "    }\n",
       "\n",
       "    .dataframe tbody tr th {\n",
       "        vertical-align: top;\n",
       "    }\n",
       "\n",
       "    .dataframe thead th {\n",
       "        text-align: right;\n",
       "    }\n",
       "</style>\n",
       "<table border=\"1\" class=\"dataframe\">\n",
       "  <thead>\n",
       "    <tr style=\"text-align: right;\">\n",
       "      <th></th>\n",
       "      <th>index</th>\n",
       "      <th>coref_content</th>\n",
       "      <th>industry</th>\n",
       "    </tr>\n",
       "  </thead>\n",
       "  <tbody>\n",
       "    <tr>\n",
       "      <th>0</th>\n",
       "      <td>0</td>\n",
       "      <td>Norway has a lot of electric cars, so many tha...</td>\n",
       "      <td>automotiveEngineering</td>\n",
       "    </tr>\n",
       "    <tr>\n",
       "      <th>1</th>\n",
       "      <td>1</td>\n",
       "      <td>Ford says shifter cables can snap off and rend...</td>\n",
       "      <td>automotiveEngineering</td>\n",
       "    </tr>\n",
       "    <tr>\n",
       "      <th>2</th>\n",
       "      <td>2</td>\n",
       "      <td>Enlarge ImageThe C-Class is still mighty good,...</td>\n",
       "      <td>automotiveEngineering</td>\n",
       "    </tr>\n",
       "    <tr>\n",
       "      <th>3</th>\n",
       "      <td>3</td>\n",
       "      <td>The 2019 Cadillac CTS-VCNBC | Mack HoganCadill...</td>\n",
       "      <td>automotiveEngineering</td>\n",
       "    </tr>\n",
       "    <tr>\n",
       "      <th>4</th>\n",
       "      <td>4</td>\n",
       "      <td>featuring 30-inch wheels, a dettatched cabin, ...</td>\n",
       "      <td>automotiveEngineering</td>\n",
       "    </tr>\n",
       "  </tbody>\n",
       "</table>\n",
       "</div>"
      ],
      "text/plain": [
       "   index                                      coref_content  \\\n",
       "0      0  Norway has a lot of electric cars, so many tha...   \n",
       "1      1  Ford says shifter cables can snap off and rend...   \n",
       "2      2  Enlarge ImageThe C-Class is still mighty good,...   \n",
       "3      3  The 2019 Cadillac CTS-VCNBC | Mack HoganCadill...   \n",
       "4      4  featuring 30-inch wheels, a dettatched cabin, ...   \n",
       "\n",
       "                industry  \n",
       "0  automotiveEngineering  \n",
       "1  automotiveEngineering  \n",
       "2  automotiveEngineering  \n",
       "3  automotiveEngineering  \n",
       "4  automotiveEngineering  "
      ]
     },
     "execution_count": 21,
     "metadata": {},
     "output_type": "execute_result"
    }
   ],
   "source": [
    "longform = pd.DataFrame(columns=['coref_content', 'industry'])\n",
    "for idx, index, content, industry in df.itertuples():\n",
    "    \n",
    "    doc = nlp(content)\n",
    "    doc = doc._.coref_resolved\n",
    "    longform = longform.append(\n",
    "        [{'coref_content': doc, 'index':index, 'industry': industry}],\n",
    "        ignore_index = True\n",
    "    )\n",
    "    \n",
    "#     content_words = tokenize.sent_tokenize(content)\n",
    "#     for nw in content_words:\n",
    "#         doc = nlp(nw)\n",
    "#         doc = doc._.coref_resolved\n",
    "#         longform = longform.append(\n",
    "#             [{'coref_content': doc, 'index':index, 'industry': industry}],\n",
    "#             ignore_index = True\n",
    "#     )\n",
    "    \n",
    "\n",
    "longform['index'] = longform['index'].astype(int)\n",
    "longform = longform[['index', 'coref_content', 'industry']]\n",
    "# print(longform['content'].iloc[1])\n",
    "longform.head()"
   ]
  },
  {
   "cell_type": "code",
   "execution_count": 22,
   "metadata": {},
   "outputs": [],
   "source": [
    "longform.to_csv(\"g055_Coref_Dataset.csv\", index=False)"
   ]
  },
  {
   "cell_type": "code",
   "execution_count": 23,
   "metadata": {},
   "outputs": [
    {
     "name": "stdout",
     "output_type": "stream",
     "text": [
      "Norway has a lot of electric cars—so many that it can make anyone driving a new vehicle with an internal combustion engine look like a Luddite. Mercedes-Benz brought us there to experience the EQC—and possibly to normalize it in a sea of EVs that makes California look like a land of late adopters. Outside Oslo, where cars were larger and more upscale than in other parts of Europe, and Tesla vehicles (S and X) are a more common sight than around Los Angeles or the Bay Area, the EQC fit right in. DON'T MISS: Mercedes-Benz EQC Edition 1886 electric SUV kicks off a new era After a couple of rain-soaked days driving the EQC there last week, we can say that it will be a great addition in the U.S. when it arrives sometime in 2020. At about 187 inches long, the EQC400 4Matic crossover splices into the American mid-sizers.\n"
     ]
    }
   ],
   "source": [
    "print(\"Norway has a lot of electric cars—so many that it can make anyone driving a new vehicle with an internal combustion engine look like a Luddite. Mercedes-Benz brought us there to experience the EQC—and possibly to normalize it in a sea of EVs that makes California look like a land of late adopters. Outside Oslo, where cars were larger and more upscale than in other parts of Europe, and Tesla vehicles (S and X) are a more common sight than around Los Angeles or the Bay Area, the EQC fit right in. DON'T MISS: Mercedes-Benz EQC Edition 1886 electric SUV kicks off a new era After a couple of rain-soaked days driving the EQC there last week, we can say that it will be a great addition in the U.S. when it arrives sometime in 2020. At about 187 inches long, the EQC400 4Matic crossover splices into the American mid-sizers.\")\n"
   ]
  },
  {
   "cell_type": "code",
   "execution_count": null,
   "metadata": {},
   "outputs": [],
   "source": []
  }
 ],
 "metadata": {
  "kernelspec": {
   "display_name": "Python 3",
   "language": "python",
   "name": "python3"
  },
  "language_info": {
   "codemirror_mode": {
    "name": "ipython",
    "version": 3
   },
   "file_extension": ".py",
   "mimetype": "text/x-python",
   "name": "python",
   "nbconvert_exporter": "python",
   "pygments_lexer": "ipython3",
   "version": "3.6.8"
  }
 },
 "nbformat": 4,
 "nbformat_minor": 2
}
